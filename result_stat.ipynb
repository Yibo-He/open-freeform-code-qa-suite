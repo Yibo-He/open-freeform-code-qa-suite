{
 "cells": [
  {
   "cell_type": "code",
   "execution_count": 5,
   "id": "initial_id",
   "metadata": {
    "collapsed": true,
    "ExecuteTime": {
     "end_time": "2023-09-14T09:30:28.118055Z",
     "start_time": "2023-09-14T09:30:28.113043Z"
    }
   },
   "outputs": [],
   "source": [
    "import yaml\n",
    "from matplotlib import pyplot as plt\n",
    "\n",
    "def compute_stats(file_path: str):\n",
    "    with open(file_path, 'r') as f:\n",
    "        full_results = yaml.load(f, yaml.Loader)\n",
    "    peritem_full_score = {}\n",
    "    peritem_get_score = {}\n",
    "    peritem_freq = {}\n",
    "    perlang_full_score = {}\n",
    "    perlang_get_score = {}\n",
    "    perlang_freq = {}\n",
    "    perarea_full_score = {}\n",
    "    perarea_get_score = {}\n",
    "    perarea_freq = {}\n",
    "    tot_score = 0.\n",
    "    full_score = 0.\n",
    "    \n",
    "    fields = ['keywords', 'blank_filling', 'unit_test', 'similarity', 'customized']\n",
    "    \n",
    "    for case_name, case_report in full_results.items():\n",
    "        case_full_score = case_report['full_score']\n",
    "        \n",
    "        # locate the instance with highest score\n",
    "        best_score = 0.\n",
    "        best_response_peritem_full_score = {}\n",
    "        best_response_peritem_get_score = {}\n",
    "        for response_report in case_report['detail']:\n",
    "            now_score = 0.\n",
    "            response_peritem_full_score = {}\n",
    "            response_peritem_get_score = {}\n",
    "            for field in fields:\n",
    "                if field + '_score' in response_report:\n",
    "                    now_score += response_report[field + '_score']\n",
    "                    response_peritem_full_score[field] = response_report[field + '_totscore']\n",
    "                    response_peritem_get_score[field] = response_report[field + '_score']\n",
    "            if now_score >= best_score:\n",
    "                best_score = now_score\n",
    "                best_response_peritem_full_score = response_peritem_full_score\n",
    "                best_response_peritem_get_score = response_peritem_get_score\n",
    "        \n",
    "        tot_case_score = sum(best_response_peritem_full_score.values())\n",
    "        for item in best_response_peritem_full_score:\n",
    "            best_response_peritem_full_score[item] *= case_full_score / tot_case_score\n",
    "            best_response_peritem_get_score[item] *= case_full_score / tot_case_score\n",
    "        \n",
    "        for item in best_response_peritem_full_score:\n",
    "            if item not in peritem_get_score:\n",
    "                peritem_get_score[item] = 0.\n",
    "                peritem_full_score[item] = 0.\n",
    "                peritem_freq[item] = 0.\n",
    "            peritem_get_score[item] += best_response_peritem_get_score[item]\n",
    "            peritem_full_score[item] += best_response_peritem_full_score[item]\n",
    "            peritem_freq[item] += 1\n",
    "        \n",
    "        now_score = case_report['now_score']\n",
    "        now_lang = case_report['lang']\n",
    "        now_area = case_report['type']\n",
    "        \n",
    "        tot_score += now_score\n",
    "        full_score += case_report['full_score']\n",
    "        \n",
    "        if now_lang not in perlang_get_score:\n",
    "            perlang_get_score[now_lang] = 0.\n",
    "            perlang_full_score[now_lang] = 0.\n",
    "            perlang_freq[now_lang] = 0.\n",
    "        \n",
    "        perlang_get_score[now_lang] += now_score\n",
    "        perlang_full_score[now_lang] += case_full_score\n",
    "        perlang_freq[now_lang] += 1.\n",
    "        \n",
    "        if now_area not in perarea_get_score:\n",
    "            perarea_get_score[now_area] = 0.\n",
    "            perarea_full_score[now_area] = 0.\n",
    "            perarea_freq[now_area] = 0.\n",
    "        \n",
    "        perarea_get_score[now_area] += now_score\n",
    "        perarea_full_score[now_area] += case_full_score\n",
    "        perarea_freq[now_area] += 1.\n",
    "        \n",
    "    langs = list(perlang_get_score.keys())\n",
    "    areas = list(perarea_get_score.keys())\n",
    "    \n",
    "    return {\n",
    "        'tot_score': tot_score,\n",
    "        'tot_full_score': full_score,\n",
    "        'lang': langs,\n",
    "        'area': areas,\n",
    "        'field': fields,\n",
    "        'perarea_freq': perarea_freq,\n",
    "        'perarea_get_score': perarea_get_score,\n",
    "        'perarea_full_score': perarea_full_score,\n",
    "        'perlang_freq': perlang_freq,\n",
    "        'perlang_get_score': perlang_get_score,\n",
    "        'perlang_full_score': perlang_full_score,\n",
    "        'peritem_freq': peritem_freq,\n",
    "        'peritem_get_score': peritem_get_score,\n",
    "        'peritem_full_score': peritem_full_score\n",
    "    }\n"
   ]
  },
  {
   "cell_type": "code",
   "execution_count": 7,
   "outputs": [
    {
     "data": {
      "text/plain": "{'tot_score': 28.792113504566615,\n 'tot_full_score': 40.0,\n 'lang': ['web',\n  'python',\n  'javascript',\n  'dart',\n  'sql',\n  'swift',\n  'go',\n  'java',\n  'mobile',\n  'git',\n  'system',\n  'php'],\n 'area': ['code debugging', 'code completion', 'knowledge question-answering'],\n 'field': ['keywords',\n  'blank_filling',\n  'unit_test',\n  'similarity',\n  'customized'],\n 'perarea_freq': {'code debugging': 19.0,\n  'code completion': 8.0,\n  'knowledge question-answering': 13.0},\n 'perarea_get_score': {'code debugging': 11.119047619047619,\n  'code completion': 7.5,\n  'knowledge question-answering': 10.173065885519},\n 'perarea_full_score': {'code debugging': 19.0,\n  'code completion': 8.0,\n  'knowledge question-answering': 13.0},\n 'perlang_freq': {'web': 6.0,\n  'python': 9.0,\n  'javascript': 11.0,\n  'dart': 3.0,\n  'sql': 1.0,\n  'swift': 1.0,\n  'go': 1.0,\n  'java': 2.0,\n  'mobile': 3.0,\n  'git': 1.0,\n  'system': 1.0,\n  'php': 1.0},\n 'perlang_get_score': {'web': 4.5,\n  'python': 7.6,\n  'javascript': 8.416666666666666,\n  'dart': 2.6666666666666665,\n  'sql': 0.2857142857142857,\n  'swift': 0.5370985603543741,\n  'go': 0.5,\n  'java': 0.8319252432155658,\n  'mobile': 1.0,\n  'git': 0.4540420819490589,\n  'system': 1.0,\n  'php': 1.0},\n 'perlang_full_score': {'web': 6.0,\n  'python': 9.0,\n  'javascript': 11.0,\n  'dart': 3.0,\n  'sql': 1.0,\n  'swift': 1.0,\n  'go': 1.0,\n  'java': 2.0,\n  'mobile': 3.0,\n  'git': 1.0,\n  'system': 1.0,\n  'php': 1.0},\n 'peritem_freq': {'keywords': 29.0,\n  'unit_test': 7.0,\n  'blank_filling': 2.0,\n  'similarity': 4.0},\n 'peritem_get_score': {'keywords': 20.235714285714288,\n  'unit_test': 5.9,\n  'blank_filling': 1.0,\n  'similarity': 1.0730658855189987},\n 'peritem_full_score': {'keywords': 28.1,\n  'unit_test': 5.9,\n  'blank_filling': 2.0,\n  'similarity': 4.0}}"
     },
     "execution_count": 7,
     "metadata": {},
     "output_type": "execute_result"
    }
   ],
   "source": [
    "compute_stats('results/suite_v1_gpt-4_0.2_0.9_10.yaml')"
   ],
   "metadata": {
    "collapsed": false,
    "ExecuteTime": {
     "end_time": "2023-09-14T09:31:42.140744Z",
     "start_time": "2023-09-14T09:31:42.038107Z"
    }
   },
   "id": "4c7777d0dd8ebea0"
  },
  {
   "cell_type": "code",
   "execution_count": 8,
   "outputs": [
    {
     "data": {
      "text/plain": "{'tot_score': 22.905522818566297,\n 'tot_full_score': 40.0,\n 'lang': ['web',\n  'python',\n  'javascript',\n  'dart',\n  'sql',\n  'swift',\n  'go',\n  'java',\n  'mobile',\n  'git',\n  'system',\n  'php'],\n 'area': ['code debugging', 'code completion', 'knowledge question-answering'],\n 'field': ['keywords',\n  'blank_filling',\n  'unit_test',\n  'similarity',\n  'customized'],\n 'perarea_freq': {'code debugging': 19.0,\n  'code completion': 8.0,\n  'knowledge question-answering': 13.0},\n 'perarea_get_score': {'code debugging': 9.583333333333334,\n  'code completion': 6.5,\n  'knowledge question-answering': 6.822189485232963},\n 'perarea_full_score': {'code debugging': 19.0,\n  'code completion': 8.0,\n  'knowledge question-answering': 13.0},\n 'perlang_freq': {'web': 6.0,\n  'python': 9.0,\n  'javascript': 11.0,\n  'dart': 3.0,\n  'sql': 1.0,\n  'swift': 1.0,\n  'go': 1.0,\n  'java': 2.0,\n  'mobile': 3.0,\n  'git': 1.0,\n  'system': 1.0,\n  'php': 1.0},\n 'perlang_get_score': {'web': 2.928571428571429,\n  'python': 6.5,\n  'javascript': 6.083333333333334,\n  'dart': 2.3333333333333335,\n  'sql': 1.0,\n  'swift': 0.3870043000477782,\n  'go': 0.75,\n  'java': 0.75,\n  'mobile': 0.0,\n  'git': 0.42328042328042303,\n  'system': 1.0,\n  'php': 0.75},\n 'perlang_full_score': {'web': 6.0,\n  'python': 9.0,\n  'javascript': 11.0,\n  'dart': 3.0,\n  'sql': 1.0,\n  'swift': 1.0,\n  'go': 1.0,\n  'java': 2.0,\n  'mobile': 3.0,\n  'git': 1.0,\n  'system': 1.0,\n  'php': 1.0},\n 'peritem_freq': {'keywords': 29.0,\n  'unit_test': 7.0,\n  'blank_filling': 2.0,\n  'similarity': 4.0},\n 'peritem_get_score': {'keywords': 15.516666666666666,\n  'unit_test': 5.9,\n  'blank_filling': 0.42857142857142855,\n  'similarity': 0.8102847233282012},\n 'peritem_full_score': {'keywords': 28.1,\n  'unit_test': 5.9,\n  'blank_filling': 2.0,\n  'similarity': 4.0}}"
     },
     "execution_count": 8,
     "metadata": {},
     "output_type": "execute_result"
    }
   ],
   "source": [
    "compute_stats('results/suite_v1_gpt-3.5-turbo_0.2_0.9_10.yaml')"
   ],
   "metadata": {
    "collapsed": false,
    "ExecuteTime": {
     "end_time": "2023-09-14T09:40:22.942500Z",
     "start_time": "2023-09-14T09:40:22.783913Z"
    }
   },
   "id": "505a86a9bf1c1a8d"
  },
  {
   "cell_type": "code",
   "execution_count": null,
   "outputs": [],
   "source": [],
   "metadata": {
    "collapsed": false
   },
   "id": "bd6ff222d0e40501"
  }
 ],
 "metadata": {
  "kernelspec": {
   "display_name": "Python 3",
   "language": "python",
   "name": "python3"
  },
  "language_info": {
   "codemirror_mode": {
    "name": "ipython",
    "version": 2
   },
   "file_extension": ".py",
   "mimetype": "text/x-python",
   "name": "python",
   "nbconvert_exporter": "python",
   "pygments_lexer": "ipython2",
   "version": "2.7.6"
  }
 },
 "nbformat": 4,
 "nbformat_minor": 5
}
